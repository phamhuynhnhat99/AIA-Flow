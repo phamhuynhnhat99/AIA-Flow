{
 "cells": [
  {
   "cell_type": "code",
   "execution_count": 1,
   "id": "1f706d42",
   "metadata": {},
   "outputs": [],
   "source": [
    "import os\n",
    "from aia.NENV import *\n",
    "from aia.flow.flow import Flow\n",
    "from aia.main.utils import Coordinator"
   ]
  },
  {
   "cell_type": "code",
   "execution_count": 2,
   "id": "2e2c8185",
   "metadata": {},
   "outputs": [],
   "source": [
    "from aia.core.Node import Node as Node"
   ]
  },
  {
   "cell_type": "code",
   "execution_count": 3,
   "id": "74ea6b37",
   "metadata": {},
   "outputs": [],
   "source": [
    "from aia.main.utils import Coordinator"
   ]
  },
  {
   "cell_type": "code",
   "execution_count": 4,
   "id": "7d3939c4",
   "metadata": {},
   "outputs": [
    {
     "name": "stderr",
     "output_type": "stream",
     "text": [
      "/Users/phnhat/opt/anaconda3/envs/aianogui-env/lib/python3.8/site-packages/tqdm/auto.py:22: TqdmWarning: IProgress not found. Please update jupyter and ipywidgets. See https://ipywidgets.readthedocs.io/en/stable/user_install.html\n",
      "  from .autonotebook import tqdm as notebook_tqdm\n"
     ]
    }
   ],
   "source": [
    "from aia.main.no_gui_nodes.image.image_nodes import *\n",
    "from aia.main.no_gui_nodes.text.text_nodes import *\n",
    "from aia.main.no_gui_nodes.yolov5s.yolov5s_nodes import *"
   ]
  },
  {
   "cell_type": "code",
   "execution_count": 5,
   "id": "d52bc4bb",
   "metadata": {},
   "outputs": [
    {
     "name": "stdout",
     "output_type": "stream",
     "text": [
      "[<class 'yolov5s_nodes.yolov5sNode'>, <class 'image_nodes.readImageNode'>, <class 'image_nodes.saveImageNode'>, <class 'image_nodes.removeBackgroundNode'>, <class 'image_nodes.blurImageNode'>, <class 'text_nodes.textInputNode'>]\n"
     ]
    }
   ],
   "source": [
    "init_node_env()\n",
    "coordinator = Coordinator()\n",
    "coordinator.auto_loading()"
   ]
  },
  {
   "cell_type": "code",
   "execution_count": 6,
   "id": "c14debdb",
   "metadata": {},
   "outputs": [
    {
     "name": "stdout",
     "output_type": "stream",
     "text": [
      "['yolov5sNode', 'readImageNode', 'saveImageNode', 'removeBackgroundNode', 'blueImageNode', 'textInputNode']\n"
     ]
    },
    {
     "name": "stderr",
     "output_type": "stream",
     "text": [
      "Using cache found in /Users/phnhat/.cache/torch/hub/ultralytics_yolov5_master\n",
      "YOLOv5 🚀 2022-12-6 Python-3.8.15 torch-1.13.0 CPU\n",
      "\n",
      "Fusing layers... \n",
      "[W NNPACK.cpp:53] Could not initialize NNPACK! Reason: Unsupported hardware.\n",
      "YOLOv5s summary: 213 layers, 7225885 parameters, 0 gradients\n",
      "Adding AutoShape... \n"
     ]
    }
   ],
   "source": [
    "config[\"save_and_load\"][\"json_file_load\"]\n",
    "aia_load = config[\"save_and_load\"][\"json_file_load\"]\n",
    "coordinator.load(aia_load)\n",
    "coordinator.updating_all_of_nodes()"
   ]
  },
  {
   "cell_type": "code",
   "execution_count": 7,
   "id": "8b310dd7",
   "metadata": {
    "scrolled": true
   },
   "outputs": [
    {
     "ename": "ModuleNotFoundError",
     "evalue": "No module named 'flask'",
     "output_type": "error",
     "traceback": [
      "\u001b[0;31m---------------------------------------------------------------------------\u001b[0m",
      "\u001b[0;31mModuleNotFoundError\u001b[0m                       Traceback (most recent call last)",
      "Cell \u001b[0;32mIn[7], line 2\u001b[0m\n\u001b[1;32m      1\u001b[0m \u001b[38;5;28;01mimport\u001b[39;00m \u001b[38;5;21;01mjson\u001b[39;00m\n\u001b[0;32m----> 2\u001b[0m \u001b[38;5;28;01mfrom\u001b[39;00m \u001b[38;5;21;01mflask\u001b[39;00m \u001b[38;5;28;01mimport\u001b[39;00m Flask, request\n\u001b[1;32m      3\u001b[0m \u001b[38;5;28;01mfrom\u001b[39;00m \u001b[38;5;21;01mflask_cors\u001b[39;00m \u001b[38;5;28;01mimport\u001b[39;00m CORS\n\u001b[1;32m      5\u001b[0m app \u001b[38;5;241m=\u001b[39m Flask(\u001b[38;5;18m__name__\u001b[39m)\n",
      "\u001b[0;31mModuleNotFoundError\u001b[0m: No module named 'flask'"
     ]
    }
   ],
   "source": [
    "import json\n",
    "from flask import Flask, request\n",
    "from flask_cors import CORS\n",
    "\n",
    "app = Flask(__name__)\n",
    "CORS(app)\n",
    "\n",
    "@app.route(\"/\")\n",
    "def hello_world():\n",
    "    return \"Hello, World!\"\n",
    "\n",
    "@app.route(\"/build_graph\", methods=['POST'])\n",
    "def build_graph():\n",
    "    try : \n",
    "        print(request.data,request.json)\n",
    "        data = request.json\n",
    "        print(data)\n",
    "        out_file = open(\"temp_graph.json\", \"w\")\n",
    "        json.dump(data, out_file, indent = 6)\n",
    "        out_file.close()\n",
    "        coordinator.load(\"temp_graph.json\")\n",
    "        coordinator.updating_all_of_nodes()\n",
    "        return {\"build_status\":\"succeeded\"}\n",
    "    except:\n",
    "        return {\"build_status\":\"failed\"}\n",
    "\n",
    "if __name__ == '__main__':\n",
    "     app.run()"
   ]
  },
  {
   "cell_type": "code",
   "execution_count": null,
   "id": "a55f285d",
   "metadata": {},
   "outputs": [],
   "source": []
  },
  {
   "cell_type": "code",
   "execution_count": null,
   "id": "4bdfdca7",
   "metadata": {},
   "outputs": [],
   "source": []
  },
  {
   "cell_type": "code",
   "execution_count": null,
   "id": "34408ab7",
   "metadata": {},
   "outputs": [],
   "source": []
  },
  {
   "cell_type": "code",
   "execution_count": null,
   "id": "9f6d1862",
   "metadata": {},
   "outputs": [],
   "source": []
  },
  {
   "cell_type": "code",
   "execution_count": null,
   "id": "20beef27",
   "metadata": {},
   "outputs": [],
   "source": []
  },
  {
   "cell_type": "code",
   "execution_count": null,
   "id": "7ba467a0",
   "metadata": {},
   "outputs": [],
   "source": []
  },
  {
   "cell_type": "code",
   "execution_count": null,
   "id": "d455741e",
   "metadata": {},
   "outputs": [],
   "source": []
  },
  {
   "cell_type": "code",
   "execution_count": null,
   "id": "bad4984d",
   "metadata": {},
   "outputs": [],
   "source": []
  },
  {
   "cell_type": "code",
   "execution_count": null,
   "id": "c697179d",
   "metadata": {},
   "outputs": [],
   "source": []
  },
  {
   "cell_type": "code",
   "execution_count": null,
   "id": "4d0ccd9a",
   "metadata": {},
   "outputs": [],
   "source": []
  },
  {
   "cell_type": "code",
   "execution_count": null,
   "id": "60be8946",
   "metadata": {},
   "outputs": [],
   "source": []
  },
  {
   "cell_type": "code",
   "execution_count": null,
   "id": "5c1d9c8d",
   "metadata": {},
   "outputs": [],
   "source": []
  },
  {
   "cell_type": "code",
   "execution_count": null,
   "id": "bd3c8482",
   "metadata": {},
   "outputs": [],
   "source": []
  },
  {
   "cell_type": "code",
   "execution_count": null,
   "id": "26ff6f3f",
   "metadata": {},
   "outputs": [],
   "source": []
  }
 ],
 "metadata": {
  "kernelspec": {
   "display_name": "Python 3 (ipykernel)",
   "language": "python",
   "name": "python3"
  },
  "language_info": {
   "codemirror_mode": {
    "name": "ipython",
    "version": 3
   },
   "file_extension": ".py",
   "mimetype": "text/x-python",
   "name": "python",
   "nbconvert_exporter": "python",
   "pygments_lexer": "ipython3",
   "version": "3.8.15"
  },
  "vscode": {
   "interpreter": {
    "hash": "31f2aee4e71d21fbe5cf8b01ff0e069b9275f58929596ceb00d14d90e3e16cd6"
   }
  }
 },
 "nbformat": 4,
 "nbformat_minor": 5
}
